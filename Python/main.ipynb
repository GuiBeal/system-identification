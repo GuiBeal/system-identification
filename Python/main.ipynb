{
 "cells": [
  {
   "attachments": {},
   "cell_type": "markdown",
   "metadata": {},
   "source": [
    "# Load and View Data"
   ]
  },
  {
   "cell_type": "code",
   "execution_count": 21,
   "metadata": {},
   "outputs": [
    {
     "name": "stdout",
     "output_type": "stream",
     "text": [
      "Number of data points: 200\n",
      "k in [0, 199]\n"
     ]
    },
    {
     "data": {
      "image/png": "[encoded data removed]",
      "text/plain": [
       "<Figure size 576x288 with 1 Axes>"
      ]
     },
     "metadata": {
      "needs_background": "light"
     },
     "output_type": "display_data"
    }
   ],
   "source": [
    "import numpy as np\n",
    "import pandas as pd\n",
    "import matplotlib.pyplot as plt\n",
    "\n",
    "file = '../data.csv'\n",
    "df = pd.read_csv(file, header=None, names=['u', 'y'])\n",
    "\n",
    "print('Number of data points:', len(df))\n",
    "print(f'k in [{df.index[0]}, {df.index[-1]}]')\n",
    "\n",
    "k = df.index.values\n",
    "u = df.u.values\n",
    "y = df.y.values\n",
    "\n",
    "plt.figure(figsize=(8,4))\n",
    "plt.plot(df.index, 10*df.u, label='10*u', drawstyle='steps-post')\n",
    "plt.plot(df.index, df.y   , label='y'   , drawstyle='steps-post')\n",
    "plt.xlim(df.index[0], df.index[-1])\n",
    "plt.xlabel('k')\n",
    "plt.grid()\n",
    "plt.legend()\n",
    "plt.tight_layout()\n",
    "plt.show()"
   ]
  },
  {
   "attachments": {},
   "cell_type": "markdown",
   "metadata": {},
   "source": [
    "# Modelo Genérico\n",
    "\n",
    "\\begin{gather*}\n",
    "A(q) \\, y[k] = \\dfrac{B(q)}{F(q)} \\, u[k] + \\dfrac{C(q)}{D(q)} \\, e[k]\n",
    "\\\\\n",
    "y[k] = G(q) \\, u[k] + H(q) \\, e[k]\n",
    "\\\\\n",
    "G(q) = \\dfrac{B(q)}{A(q) \\, F(q)}\n",
    "\\qquad\n",
    "H(q) = \\dfrac{C(q)}{A(q) \\, D(q)}\n",
    "\\\\\n",
    "A(q) = 1 - a_1 \\, q^{-1} - \\dotsb - a_{n_a} \\, q^{-n_a}\n",
    "\\\\\n",
    "B(q) = b_1 \\, q^{-1} + \\dotsb + b_{n_b} \\, q^{-n_b}\n",
    "\\\\\n",
    "C(q) = 1 + c_1 \\, q^{-1} + \\dotsb + c_{n_c} \\, q^{-n_c}\n",
    "\\\\\n",
    "D(q) = 1 + d_1 \\, q^{-1} + \\dotsb + d_{n_d} \\, q^{-n_d}\n",
    "\\\\\n",
    "F(q) = 1 + f_1 \\, q^{-1} + \\dotsb + f_{n_f} \\, q^{-n_f}\n",
    "\\end{gather*}"
   ]
  },
  {
   "attachments": {},
   "cell_type": "markdown",
   "metadata": {},
   "source": [
    "# ARX\n",
    "\n",
    "\\begin{gather*}\n",
    "y[k] = G(q) \\, u[k] + H(q) \\, e[k]\n",
    "\\\\\n",
    "G(q) = \\dfrac{B(q)}{A(q)}\n",
    "\\qquad\n",
    "H(q) = \\dfrac{1}{A(q)}\n",
    "\\\\\n",
    "A(q) = 1 - a_1 \\, q^{-1} - \\dotsb - a_{n_a} \\, q^{-n_a}\n",
    "\\\\\n",
    "B(q) = b_1 \\, q^{-1} + \\dotsb + b_{n_b} \\, q^{-n_b}\n",
    "\\end{gather*}"
   ]
  },
  {
   "cell_type": "code",
   "execution_count": 44,
   "metadata": {},
   "outputs": [
    {
     "name": "stdout",
     "output_type": "stream",
     "text": [
      "nA=1, nB=1, nK=0, A=[ 1.     -0.8934  0.      0.    ], B=[ 3.3048  0.      0.      0.      0.    ]\n",
      "nA=1, nB=1, nK=1, A=[ 1.     -0.8657  0.      0.    ], B=[ 0.      4.0428  0.      0.      0.    ]\n",
      "nA=1, nB=1, nK=2, A=[ 1.     -0.8426  0.      0.    ], B=[ 0.      0.      4.5798  0.      0.    ]\n",
      "nA=1, nB=2, nK=0, A=[ 1.     -0.8633  0.      0.    ], B=[ 0.9419  3.2076  0.      0.      0.    ]\n",
      "nA=1, nB=2, nK=1, A=[ 1.     -0.8339  0.      0.    ], B=[ 0.      2.4809  2.448   0.      0.    ]\n",
      "nA=1, nB=2, nK=2, A=[ 1.     -0.8427  0.      0.    ], B=[ 0.      0.      4.5823 -0.004   0.    ]\n",
      "nA=2, nB=1, nK=0, A=[ 1.     -1.4923  0.5566  0.    ], B=[ 1.8404  0.      0.      0.      0.    ]\n",
      "nA=2, nB=1, nK=1, A=[ 1.     -1.3949  0.4861  0.    ], B=[ 0.      2.6165  0.      0.      0.    ]\n",
      "nA=2, nB=1, nK=2, A=[ 1.     -1.3817  0.4772  0.    ], B=[ 0.      0.      2.6502  0.      0.    ]\n",
      "nA=2, nB=2, nK=0, A=[ 1.     -1.3827  0.4758  0.    ], B=[ 0.346   2.3432  0.      0.      0.    ]\n",
      "nA=2, nB=2, nK=1, A=[ 1.     -1.3173  0.4266  0.    ], B=[ 0.      2.0902  1.0584  0.      0.    ]\n",
      "nA=2, nB=2, nK=2, A=[ 1.     -1.4708  0.5385  0.    ], B=[ 0.      0.      3.0548 -1.2082  0.    ]\n",
      "nA=2, nB=3, nK=0, A=[ 1.     -1.3091  0.4196  0.    ], B=[ 0.2856  1.8771  1.0332  0.      0.    ]\n",
      "nA=2, nB=3, nK=1, A=[ 1.     -1.4133  0.492   0.    ], B=[ 0.      2.1675  1.5265 -1.425   0.    ]\n",
      "nA=2, nB=3, nK=2, A=[ 1.     -1.4706  0.5423  0.    ], B=[ 0.      0.      3.0583 -1.2533  0.1581]\n",
      "nA=3, nB=1, nK=0, A=[ 1.     -1.5694  0.7314 -0.0993], B=[ 1.8179  0.      0.      0.      0.    ]\n",
      "nA=3, nB=1, nK=1, A=[ 1.     -1.4763  0.6723 -0.1062], B=[ 0.      2.6036  0.      0.      0.    ]\n",
      "nA=3, nB=1, nK=2, A=[ 1.     -1.4323  0.5759 -0.0515], B=[ 0.      0.      2.5631  0.      0.    ]\n",
      "nA=3, nB=2, nK=0, A=[ 1.     -1.4655  0.6671 -0.1097], B=[ 0.3771  2.3069  0.      0.      0.    ]\n",
      "nA=3, nB=2, nK=1, A=[ 1.     -1.3957  0.5987 -0.096 ], B=[ 0.      2.1308  0.9733  0.      0.    ]\n",
      "nA=3, nB=2, nK=2, A=[ 1.     -1.4745  0.5479 -0.0056], B=[ 0.      0.      3.0509 -1.1988  0.    ]\n",
      "nA=3, nB=3, nK=0, A=[ 1.     -1.3891  0.5966 -0.0992], B=[ 0.3188  1.8947  0.9428  0.      0.    ]\n",
      "nA=3, nB=3, nK=1, A=[ 1.     -1.4422  0.5677 -0.0455], B=[ 0.      2.1905  1.4783 -1.3509  0.    ]\n",
      "nA=3, nB=3, nK=2, A=[ 1.     -1.4927  0.5992 -0.0328], B=[ 0.      0.      3.0262 -1.2364  0.2363]\n"
     ]
    }
   ],
   "source": [
    "from pysid import arx\n",
    "\n",
    "nAmax = 3\n",
    "nBmax = 3\n",
    "nKmax = 2\n",
    "\n",
    "for nA in range(1,nAmax+1):\n",
    "  for nB in range(1,nBmax+1):\n",
    "    for nK in range(0, nKmax+1):\n",
    "      if nB-1 > nA:\n",
    "        continue\n",
    "\n",
    "      id = arx(na=nA, nb=nB-1, nk=nK, u=u, y=y)\n",
    "      A = id.A[0][0]\n",
    "      B = id.B[0][0]\n",
    "\n",
    "      # Append zeros so all vectors have same length for pretty print\n",
    "      A = np.append(A, np.zeros(nAmax - len(A) + 1))\n",
    "      B = np.append(B, np.zeros(nBmax + nKmax - len(B)))\n",
    "      \n",
    "      with np.printoptions(precision=4, suppress=True, sign=' '):\n",
    "        print(f\"nA={nA}, nB={nB}, nK={nK}, A={A}, B={B}\")\n"
   ]
  },
  {
   "attachments": {},
   "cell_type": "markdown",
   "metadata": {},
   "source": [
    "# ARMAX\n",
    "\n",
    "\\begin{gather*}\n",
    "y[k] = G(q) \\, u[k] + H(q) \\, e[k]\n",
    "\\\\\n",
    "G(q) = \\dfrac{B(q)}{A(q)}\n",
    "\\qquad\n",
    "H(q) = \\dfrac{C(q)}{A(q)}\n",
    "\\\\\n",
    "A(q) = 1 - a_1 \\, q^{-1} - \\dotsb - a_{n_a} \\, q^{-n_a}\n",
    "\\\\\n",
    "B(q) = b_1 \\, q^{-1} + \\dotsb + b_{n_b} \\, q^{-n_b}\n",
    "\\\\\n",
    "C(q) = 1 + c_1 \\, q^{-1} + \\dotsb + c_{n_c} \\, q^{-n_c}\n",
    "\\end{gather*}"
   ]
  },
  {
   "attachments": {},
   "cell_type": "markdown",
   "metadata": {},
   "source": [
    "# Output Error\n",
    "\n",
    "\\begin{gather*}\n",
    "y[k] = G(q) \\, u[k] + H(q) \\, e[k]\n",
    "\\\\\n",
    "G(q) = \\dfrac{B(q)}{F(q)}\n",
    "\\qquad\n",
    "H(q) = 1\n",
    "\\\\\n",
    "B(q) = b_1 \\, q^{-1} + \\dotsb + b_{n_b} \\, q^{-n_b}\n",
    "\\\\\n",
    "F(q) = 1 + f_1 \\, q^{-1} + \\dotsb + f_{n_f} \\, q^{-n_f}\n",
    "\\end{gather*}"
   ]
  },
  {
   "attachments": {},
   "cell_type": "markdown",
   "metadata": {},
   "source": [
    "# Box-Jenkins\n",
    "\n",
    "\\begin{gather*}\n",
    "y[k] = G(q) \\, u[k] + H(q) \\, e[k]\n",
    "\\\\\n",
    "G(q) = \\dfrac{B(q)}{F(q)}\n",
    "\\qquad\n",
    "H(q) = \\dfrac{C(q)}{D(q)}\n",
    "\\\\\n",
    "B(q) = b_1 \\, q^{-1} + \\dotsb + b_{n_b} \\, q^{-n_b}\n",
    "\\\\\n",
    "C(q) = 1 + c_1 \\, q^{-1} + \\dotsb + c_{n_c} \\, q^{-n_c}\n",
    "\\\\\n",
    "D(q) = 1 + d_1 \\, q^{-1} + \\dotsb + d_{n_d} \\, q^{-n_d}\n",
    "\\\\\n",
    "F(q) = 1 + f_1 \\, q^{-1} + \\dotsb + f_{n_f} \\, q^{-n_f}\n",
    "\\end{gather*}"
   ]
  }
 ],
 "metadata": {
  "kernelspec": {
   "display_name": "base",
   "language": "python",
   "name": "python3"
  },
  "language_info": {
   "codemirror_mode": {
    "name": "ipython",
    "version": 3
   },
   "file_extension": ".py",
   "mimetype": "text/x-python",
   "name": "python",
   "nbconvert_exporter": "python",
   "pygments_lexer": "ipython3",
   "version": "3.9.12"
  },
  "orig_nbformat": 4
 },
 "nbformat": 4,
 "nbformat_minor": 2
}
