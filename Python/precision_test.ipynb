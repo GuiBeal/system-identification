{
 "cells": [
  {
   "cell_type": "code",
   "execution_count": 30,
   "metadata": {},
   "outputs": [],
   "source": [
    "%qtconsole\n",
    "\n",
    "import numpy as np\n",
    "import pandas as pd\n",
    "\n",
    "np.random.seed(12345)\n",
    "\n",
    "df = pd.DataFrame({\n",
    "  'a': np.random.rand(1),\n",
    "  'b': np.random.rand(1),\n",
    "  'A': [np.random.rand(5)],\n",
    "  'B': [np.random.rand(4)],\n",
    "  'C': [np.random.rand(3)],\n",
    "})"
   ]
  },
  {
   "cell_type": "code",
   "execution_count": 31,
   "metadata": {},
   "outputs": [
    {
     "data": {
      "text/html": [
       "<div>\n",
       "<style scoped>\n",
       "    .dataframe tbody tr th:only-of-type {\n",
       "        vertical-align: middle;\n",
       "    }\n",
       "\n",
       "    .dataframe tbody tr th {\n",
       "        vertical-align: top;\n",
       "    }\n",
       "\n",
       "    .dataframe thead th {\n",
       "        text-align: right;\n",
       "    }\n",
       "</style>\n",
       "<table border=\"1\" class=\"dataframe\">\n",
       "  <thead>\n",
       "    <tr style=\"text-align: right;\">\n",
       "      <th></th>\n",
       "      <th>a</th>\n",
       "      <th>b</th>\n",
       "      <th>A</th>\n",
       "      <th>B</th>\n",
       "      <th>C</th>\n",
       "    </tr>\n",
       "  </thead>\n",
       "  <tbody>\n",
       "    <tr>\n",
       "      <th>0</th>\n",
       "      <td>0.929616</td>\n",
       "      <td>0.316376</td>\n",
       "      <td>[0.18391881167709445, 0.2045602785530397, 0.56...</td>\n",
       "      <td>[0.6531770968715709, 0.7489066375339118, 0.653...</td>\n",
       "      <td>[0.9613067360728214, 0.00838829794155349, 0.10...</td>\n",
       "    </tr>\n",
       "  </tbody>\n",
       "</table>\n",
       "</div>"
      ],
      "text/plain": [
       "          a         b                                                  A  \\\n",
       "0  0.929616  0.316376  [0.18391881167709445, 0.2045602785530397, 0.56...   \n",
       "\n",
       "                                                   B  \\\n",
       "0  [0.6531770968715709, 0.7489066375339118, 0.653...   \n",
       "\n",
       "                                                   C  \n",
       "0  [0.9613067360728214, 0.00838829794155349, 0.10...  "
      ]
     },
     "metadata": {},
     "output_type": "display_data"
    }
   ],
   "source": [
    "display(df)"
   ]
  },
  {
   "cell_type": "code",
   "execution_count": 32,
   "metadata": {},
   "outputs": [
    {
     "data": {
      "text/html": [
       "<div>\n",
       "<style scoped>\n",
       "    .dataframe tbody tr th:only-of-type {\n",
       "        vertical-align: middle;\n",
       "    }\n",
       "\n",
       "    .dataframe tbody tr th {\n",
       "        vertical-align: top;\n",
       "    }\n",
       "\n",
       "    .dataframe thead th {\n",
       "        text-align: right;\n",
       "    }\n",
       "</style>\n",
       "<table border=\"1\" class=\"dataframe\">\n",
       "  <thead>\n",
       "    <tr style=\"text-align: right;\">\n",
       "      <th></th>\n",
       "      <th>a</th>\n",
       "      <th>b</th>\n",
       "      <th>A</th>\n",
       "      <th>B</th>\n",
       "      <th>C</th>\n",
       "    </tr>\n",
       "  </thead>\n",
       "  <tbody>\n",
       "    <tr>\n",
       "      <th>0</th>\n",
       "      <td>0.9296</td>\n",
       "      <td>0.3164</td>\n",
       "      <td>[0.18391881167709445, 0.2045602785530397, 0.56...</td>\n",
       "      <td>[0.6531770968715709, 0.7489066375339118, 0.653...</td>\n",
       "      <td>[0.9613067360728214, 0.00838829794155349, 0.10...</td>\n",
       "    </tr>\n",
       "  </tbody>\n",
       "</table>\n",
       "</div>"
      ],
      "text/plain": [
       "        a       b                                                  A  \\\n",
       "0  0.9296  0.3164  [0.18391881167709445, 0.2045602785530397, 0.56...   \n",
       "\n",
       "                                                   B  \\\n",
       "0  [0.6531770968715709, 0.7489066375339118, 0.653...   \n",
       "\n",
       "                                                   C  \n",
       "0  [0.9613067360728214, 0.00838829794155349, 0.10...  "
      ]
     },
     "metadata": {},
     "output_type": "display_data"
    }
   ],
   "source": [
    "with pd.option_context('display.precision', 4):\n",
    "  display(df)"
   ]
  },
  {
   "cell_type": "code",
   "execution_count": 33,
   "metadata": {},
   "outputs": [
    {
     "data": {
      "text/html": [
       "<div>\n",
       "<style scoped>\n",
       "    .dataframe tbody tr th:only-of-type {\n",
       "        vertical-align: middle;\n",
       "    }\n",
       "\n",
       "    .dataframe tbody tr th {\n",
       "        vertical-align: top;\n",
       "    }\n",
       "\n",
       "    .dataframe thead th {\n",
       "        text-align: right;\n",
       "    }\n",
       "</style>\n",
       "<table border=\"1\" class=\"dataframe\">\n",
       "  <thead>\n",
       "    <tr style=\"text-align: right;\">\n",
       "      <th></th>\n",
       "      <th>a</th>\n",
       "      <th>b</th>\n",
       "      <th>A</th>\n",
       "      <th>B</th>\n",
       "      <th>C</th>\n",
       "    </tr>\n",
       "  </thead>\n",
       "  <tbody>\n",
       "    <tr>\n",
       "      <th>0</th>\n",
       "      <td>0.929616</td>\n",
       "      <td>0.316376</td>\n",
       "      <td>[0.18391881167709445, 0.2045602785530397, 0.56...</td>\n",
       "      <td>[0.6531770968715709, 0.7489066375339118, 0.653...</td>\n",
       "      <td>[0.9613067360728214, 0.00838829794155349, 0.10...</td>\n",
       "    </tr>\n",
       "  </tbody>\n",
       "</table>\n",
       "</div>"
      ],
      "text/plain": [
       "          a         b                                                  A  \\\n",
       "0  0.929616  0.316376  [0.18391881167709445, 0.2045602785530397, 0.56...   \n",
       "\n",
       "                                                   B  \\\n",
       "0  [0.6531770968715709, 0.7489066375339118, 0.653...   \n",
       "\n",
       "                                                   C  \n",
       "0  [0.9613067360728214, 0.00838829794155349, 0.10...  "
      ]
     },
     "metadata": {},
     "output_type": "display_data"
    }
   ],
   "source": [
    "with np.printoptions(precision=4):\n",
    "  display(df)"
   ]
  },
  {
   "cell_type": "code",
   "execution_count": 34,
   "metadata": {},
   "outputs": [
    {
     "data": {
      "text/html": [
       "<div>\n",
       "<style scoped>\n",
       "    .dataframe tbody tr th:only-of-type {\n",
       "        vertical-align: middle;\n",
       "    }\n",
       "\n",
       "    .dataframe tbody tr th {\n",
       "        vertical-align: top;\n",
       "    }\n",
       "\n",
       "    .dataframe thead th {\n",
       "        text-align: right;\n",
       "    }\n",
       "</style>\n",
       "<table border=\"1\" class=\"dataframe\">\n",
       "  <thead>\n",
       "    <tr style=\"text-align: right;\">\n",
       "      <th></th>\n",
       "      <th>a</th>\n",
       "      <th>b</th>\n",
       "      <th>A</th>\n",
       "      <th>B</th>\n",
       "      <th>C</th>\n",
       "    </tr>\n",
       "  </thead>\n",
       "  <tbody>\n",
       "    <tr>\n",
       "      <th>0</th>\n",
       "      <td>0.9296</td>\n",
       "      <td>0.3164</td>\n",
       "      <td>[0.18391881167709445, 0.2045602785530397, 0.56...</td>\n",
       "      <td>[0.6531770968715709, 0.7489066375339118, 0.653...</td>\n",
       "      <td>[0.9613067360728214, 0.00838829794155349, 0.10...</td>\n",
       "    </tr>\n",
       "  </tbody>\n",
       "</table>\n",
       "</div>"
      ],
      "text/plain": [
       "        a       b                                                  A  \\\n",
       "0  0.9296  0.3164  [0.18391881167709445, 0.2045602785530397, 0.56...   \n",
       "\n",
       "                                                   B  \\\n",
       "0  [0.6531770968715709, 0.7489066375339118, 0.653...   \n",
       "\n",
       "                                                   C  \n",
       "0  [0.9613067360728214, 0.00838829794155349, 0.10...  "
      ]
     },
     "metadata": {},
     "output_type": "display_data"
    }
   ],
   "source": [
    "with pd.option_context('display.precision', 4):\n",
    "  with np.printoptions(precision=4):\n",
    "    display(df)"
   ]
  },
  {
   "cell_type": "code",
   "execution_count": 36,
   "metadata": {},
   "outputs": [
    {
     "data": {
      "text/plain": [
       "array([0.96130674, 0.0083883 , 0.10644438])"
      ]
     },
     "metadata": {},
     "output_type": "display_data"
    }
   ],
   "source": [
    "display(df.loc[0].C)"
   ]
  }
 ],
 "metadata": {
  "kernelspec": {
   "display_name": "base",
   "language": "python",
   "name": "python3"
  },
  "language_info": {
   "codemirror_mode": {
    "name": "ipython",
    "version": 3
   },
   "file_extension": ".py",
   "mimetype": "text/x-python",
   "name": "python",
   "nbconvert_exporter": "python",
   "pygments_lexer": "ipython3",
   "version": "3.9.12"
  },
  "orig_nbformat": 4
 },
 "nbformat": 4,
 "nbformat_minor": 2
}
